{
 "cells": [
  {
   "cell_type": "markdown",
   "metadata": {},
   "source": [
    "# MLBox"
   ]
  },
  {
   "cell_type": "markdown",
   "metadata": {},
   "source": [
    "#### Author's description:\n",
    "\n",
    "MLBox is a powerful Automated Machine Learning python library. It provides the following features:\n",
    "\n",
    "* Fast reading and distributed data preprocessing/cleaning/formatting\n",
    "* Highly robust feature selection and leak detection\n",
    "* Accurate hyper-parameter optimization in high-dimensional space\n",
    "* State-of-the art predictive models for classification and regression (Deep Learning, Stacking, LightGBM,...)\n",
    "* Prediction with models interpretation\n",
    "\n",
    "#### Useful links:\n",
    "\n",
    "[home](https://pypi.org/project/mlbox/),\n",
    "[tutorial](https://www.analyticsvidhya.com/blog/2017/07/mlbox-library-automated-machine-learning/),\n",
    "[manual](https://mlbox.readthedocs.io/en/latest/),\n",
    "[git](https://github.com/AxeldeRomblay/MLBox),\n",
    "[more examples](https://mlbox.readthedocs.io/en/latest/introduction.html)"
   ]
  },
  {
   "cell_type": "markdown",
   "metadata": {},
   "source": [
    "## Install and import"
   ]
  },
  {
   "cell_type": "code",
   "execution_count": 25,
   "metadata": {},
   "outputs": [
    {
     "name": "stdout",
     "output_type": "stream",
     "text": [
      "Requirement already satisfied: jsonschema==2.6 in /home/ubuntu/.local/lib/python3.6/site-packages (2.6.0)\n",
      "\u001b[33mWARNING: You are using pip version 20.1; however, version 21.3.1 is available.\n",
      "You should consider upgrading via the '/opt/conda/bin/python -m pip install --upgrade pip' command.\u001b[0m\n",
      "Requirement already satisfied: mlbox==0.8.2 in /home/ubuntu/.local/lib/python3.6/site-packages (0.8.2)\n",
      "Requirement already satisfied: lightgbm==2.2.3 in /home/ubuntu/.local/lib/python3.6/site-packages (from mlbox==0.8.2) (2.2.3)\n",
      "Requirement already satisfied: tables==3.5.2 in /home/ubuntu/.local/lib/python3.6/site-packages (from mlbox==0.8.2) (3.5.2)\n",
      "Requirement already satisfied: numpy==1.17.0 in /home/ubuntu/.local/lib/python3.6/site-packages (from mlbox==0.8.2) (1.17.0)\n",
      "Requirement already satisfied: hyperopt==0.1.2 in /home/ubuntu/.local/lib/python3.6/site-packages (from mlbox==0.8.2) (0.1.2)\n",
      "Requirement already satisfied: Keras==2.2.4 in /home/ubuntu/.local/lib/python3.6/site-packages (from mlbox==0.8.2) (2.2.4)\n",
      "Requirement already satisfied: joblib==0.13.2 in /home/ubuntu/.local/lib/python3.6/site-packages (from mlbox==0.8.2) (0.13.2)\n",
      "Requirement already satisfied: tensorflow==1.14.0 in /home/ubuntu/.local/lib/python3.6/site-packages (from mlbox==0.8.2) (1.14.0)\n",
      "Requirement already satisfied: scipy==1.3.0 in /home/ubuntu/.local/lib/python3.6/site-packages (from mlbox==0.8.2) (1.3.0)\n",
      "Requirement already satisfied: scikit-learn==0.21.3 in /home/ubuntu/.local/lib/python3.6/site-packages (from mlbox==0.8.2) (0.21.3)\n",
      "Requirement already satisfied: matplotlib==3.0.3 in /home/ubuntu/.local/lib/python3.6/site-packages (from mlbox==0.8.2) (3.0.3)\n",
      "Requirement already satisfied: pandas==0.25.0 in /home/ubuntu/.local/lib/python3.6/site-packages (from mlbox==0.8.2) (0.25.0)\n",
      "Requirement already satisfied: xlrd==1.2.0 in /opt/conda/lib/python3.6/site-packages (from mlbox==0.8.2) (1.2.0)\n",
      "Requirement already satisfied: mock>=2.0 in /home/ubuntu/.local/lib/python3.6/site-packages (from tables==3.5.2->mlbox==0.8.2) (4.0.3)\n",
      "Requirement already satisfied: six>=1.9.0 in /opt/conda/lib/python3.6/site-packages (from tables==3.5.2->mlbox==0.8.2) (1.14.0)\n",
      "Requirement already satisfied: numexpr>=2.6.2 in /opt/conda/lib/python3.6/site-packages (from tables==3.5.2->mlbox==0.8.2) (2.7.1)\n",
      "Requirement already satisfied: tqdm in /opt/conda/lib/python3.6/site-packages (from hyperopt==0.1.2->mlbox==0.8.2) (4.36.1)\n",
      "Requirement already satisfied: pymongo in /home/ubuntu/.local/lib/python3.6/site-packages (from hyperopt==0.1.2->mlbox==0.8.2) (4.0)\n",
      "Requirement already satisfied: future in /opt/conda/lib/python3.6/site-packages (from hyperopt==0.1.2->mlbox==0.8.2) (0.18.2)\n",
      "Requirement already satisfied: networkx in /opt/conda/lib/python3.6/site-packages (from hyperopt==0.1.2->mlbox==0.8.2) (2.4)\n",
      "Requirement already satisfied: keras-applications>=1.0.6 in /opt/conda/lib/python3.6/site-packages (from Keras==2.2.4->mlbox==0.8.2) (1.0.8)\n",
      "Requirement already satisfied: pyyaml in /opt/conda/lib/python3.6/site-packages (from Keras==2.2.4->mlbox==0.8.2) (3.13)\n",
      "Requirement already satisfied: keras-preprocessing>=1.0.5 in /opt/conda/lib/python3.6/site-packages (from Keras==2.2.4->mlbox==0.8.2) (1.1.0)\n",
      "Requirement already satisfied: h5py in /opt/conda/lib/python3.6/site-packages (from Keras==2.2.4->mlbox==0.8.2) (2.10.0)\n",
      "Requirement already satisfied: tensorflow-estimator<1.15.0rc0,>=1.14.0rc0 in /opt/conda/lib/python3.6/site-packages (from tensorflow==1.14.0->mlbox==0.8.2) (1.14.0)\n",
      "Requirement already satisfied: google-pasta>=0.1.6 in /opt/conda/lib/python3.6/site-packages (from tensorflow==1.14.0->mlbox==0.8.2) (0.2.0)\n",
      "Requirement already satisfied: tensorboard<1.15.0,>=1.14.0 in /opt/conda/lib/python3.6/site-packages (from tensorflow==1.14.0->mlbox==0.8.2) (1.14.0)\n",
      "Requirement already satisfied: termcolor>=1.1.0 in /opt/conda/lib/python3.6/site-packages (from tensorflow==1.14.0->mlbox==0.8.2) (1.1.0)\n",
      "Requirement already satisfied: wheel>=0.26 in /opt/conda/lib/python3.6/site-packages (from tensorflow==1.14.0->mlbox==0.8.2) (0.34.2)\n",
      "Requirement already satisfied: gast>=0.2.0 in /opt/conda/lib/python3.6/site-packages (from tensorflow==1.14.0->mlbox==0.8.2) (0.3.3)\n",
      "Requirement already satisfied: protobuf>=3.6.1 in /opt/conda/lib/python3.6/site-packages (from tensorflow==1.14.0->mlbox==0.8.2) (3.11.3)\n",
      "Requirement already satisfied: astor>=0.6.0 in /opt/conda/lib/python3.6/site-packages (from tensorflow==1.14.0->mlbox==0.8.2) (0.8.1)\n",
      "Requirement already satisfied: grpcio>=1.8.6 in /opt/conda/lib/python3.6/site-packages (from tensorflow==1.14.0->mlbox==0.8.2) (1.28.1)\n",
      "Requirement already satisfied: absl-py>=0.7.0 in /opt/conda/lib/python3.6/site-packages (from tensorflow==1.14.0->mlbox==0.8.2) (0.9.0)\n",
      "Requirement already satisfied: wrapt>=1.11.1 in /opt/conda/lib/python3.6/site-packages (from tensorflow==1.14.0->mlbox==0.8.2) (1.11.2)\n",
      "Requirement already satisfied: cycler>=0.10 in /opt/conda/lib/python3.6/site-packages (from matplotlib==3.0.3->mlbox==0.8.2) (0.10.0)\n",
      "Requirement already satisfied: pyparsing!=2.0.4,!=2.1.2,!=2.1.6,>=2.0.1 in /opt/conda/lib/python3.6/site-packages (from matplotlib==3.0.3->mlbox==0.8.2) (2.4.6)\n",
      "Requirement already satisfied: python-dateutil>=2.1 in /opt/conda/lib/python3.6/site-packages (from matplotlib==3.0.3->mlbox==0.8.2) (2.8.1)\n",
      "Requirement already satisfied: kiwisolver>=1.0.1 in /opt/conda/lib/python3.6/site-packages (from matplotlib==3.0.3->mlbox==0.8.2) (1.1.0)\n",
      "Requirement already satisfied: pytz>=2017.2 in /opt/conda/lib/python3.6/site-packages (from pandas==0.25.0->mlbox==0.8.2) (2018.9)\n",
      "Requirement already satisfied: decorator>=4.3.0 in /opt/conda/lib/python3.6/site-packages (from networkx->hyperopt==0.1.2->mlbox==0.8.2) (4.4.2)\n",
      "Requirement already satisfied: setuptools>=41.0.0 in /opt/conda/lib/python3.6/site-packages (from tensorboard<1.15.0,>=1.14.0->tensorflow==1.14.0->mlbox==0.8.2) (46.1.3.post20200330)\n",
      "Requirement already satisfied: werkzeug>=0.11.15 in /opt/conda/lib/python3.6/site-packages (from tensorboard<1.15.0,>=1.14.0->tensorflow==1.14.0->mlbox==0.8.2) (0.16.1)\n",
      "Requirement already satisfied: markdown>=2.6.8 in /opt/conda/lib/python3.6/site-packages (from tensorboard<1.15.0,>=1.14.0->tensorflow==1.14.0->mlbox==0.8.2) (3.2.2)\n",
      "Requirement already satisfied: importlib-metadata; python_version < \"3.8\" in /opt/conda/lib/python3.6/site-packages (from markdown>=2.6.8->tensorboard<1.15.0,>=1.14.0->tensorflow==1.14.0->mlbox==0.8.2) (1.6.0)\n",
      "Requirement already satisfied: zipp>=0.5 in /opt/conda/lib/python3.6/site-packages (from importlib-metadata; python_version < \"3.8\"->markdown>=2.6.8->tensorboard<1.15.0,>=1.14.0->tensorflow==1.14.0->mlbox==0.8.2) (3.1.0)\n",
      "\u001b[33mWARNING: You are using pip version 20.1; however, version 21.3.1 is available.\n",
      "You should consider upgrading via the '/opt/conda/bin/python -m pip install --upgrade pip' command.\u001b[0m\n"
     ]
    }
   ],
   "source": [
    "!pip install jsonschema==2.6 --user\n",
    "!pip install mlbox==0.8.2 --user"
   ]
  },
  {
   "cell_type": "markdown",
   "metadata": {},
   "source": [
    "#### MLBox main package contains 3 sub-packages : preprocessing, optimisation and prediction. Each one of them are respectively aimed at reading and preprocessing data, testing or optimising a wide range of learners and predicting the target on a test dataset."
   ]
  },
  {
   "cell_type": "code",
   "execution_count": 26,
   "metadata": {},
   "outputs": [],
   "source": [
    "from mlbox.preprocessing import *\n",
    "from mlbox.optimisation import *\n",
    "from mlbox.prediction import *\n",
    "import numpy as np\n",
    "import pandas as pd\n",
    "import sklearn\n",
    "import subprocess"
   ]
  },
  {
   "cell_type": "code",
   "execution_count": 27,
   "metadata": {},
   "outputs": [],
   "source": [
    "!rm -rf ../results/joblib"
   ]
  },
  {
   "cell_type": "markdown",
   "metadata": {},
   "source": [
    "## A few pointers to keep in mind\n",
    "\n",
    "#### Importing data\n",
    "MLBox seems to prefer csv files. Otherwise you have to build your own dictionary. The dictionary structure is not overly complicated, but it introduces another chance for syntax or type errors. It might be wise to just use csv if saving and loading as csv is not too expensive.\n",
    "\n",
    "#### Documentation\n",
    "MLBox documentation is high-level. Implementing in practice is more difficult. Could not find anything on deep learning."
   ]
  },
  {
   "cell_type": "markdown",
   "metadata": {},
   "source": [
    "## Heart Disease"
   ]
  },
  {
   "cell_type": "markdown",
   "metadata": {},
   "source": [
    "#### A note on importing data\n",
    "csv files for the two datasets in this project are saved at **/mnt/data/raw/**\n",
    "\n",
    "#### A note on the train & test function\n",
    "MLBox has a function called **train_test_split()**. It does not behave like the scikit-learn function of the same name. It can take a little getting use to. It will help if you imagine that the authors of MLBox built it as a tool for Kaggle competitions. The training set needs to have **y** in it. The test set should not. You're on your own for accuracy against the test set as it is assumed you'll find out the real answers later with an external test set that is not part of the MLBox flow.\n",
    "\n",
    "#### A note on categorical fields\n",
    "MLBox tries to infer which columns are categorical. From what I can tell, it only looks at data type when doing so. This is a little annoying. Below, I had to take the extra step of mapping numeric values to text for each of the numeric/categorical columns so that MLBox will treat them as categorical."
   ]
  },
  {
   "cell_type": "markdown",
   "metadata": {},
   "source": [
    "#### Load the heart disease dataset"
   ]
  },
  {
   "cell_type": "markdown",
   "metadata": {},
   "source": [
    "The raw data can be found in the project files at /mnt/data/raw/heart.csv\n",
    "\n",
    "Attribute documentation:\n",
    "\n",
    "      age: age in years\n",
    "      sex: sex (1 = male; 0 = female)\n",
    "      cp: chest pain type\n",
    "        -- Value 1: typical angina\n",
    "        -- Value 2: atypical angina\n",
    "        -- Value 3: non-anginal pain\n",
    "        -- Value 4: asymptomatic\n",
    "     trestbps: resting blood pressure (in mm Hg on admission to the \n",
    "        hospital)\n",
    "     chol: serum cholestoral in mg/dl\n",
    "     fbs: (fasting blood sugar > 120 mg/dl)  (1 = true; 0 = false)\n",
    "     restecg: resting electrocardiographic results\n",
    "        -- Value 0: normal\n",
    "        -- Value 1: having ST-T wave abnormality (T wave inversions and/or ST \n",
    "                    elevation or depression of > 0.05 mV)\n",
    "        -- Value 2: showing probable or definite left ventricular hypertrophy\n",
    "                    by Estes' criteria\n",
    "     thalach: maximum heart rate achieved\n",
    "     exang: exercise induced angina (1 = yes; 0 = no)\n",
    "     oldpeak = ST depression induced by exercise relative to rest\n",
    "     slope: the slope of the peak exercise ST segment\n",
    "        -- Value 1: upsloping\n",
    "        -- Value 2: flat\n",
    "        -- Value 3: downsloping\n",
    "     ca: number of major vessels (0-3) colored by flourosopy\n",
    "     thal: \n",
    "         3 = normal; \n",
    "         6 = fixed defect; \n",
    "         7 = reversable defect\n",
    "     target: diagnosis of heart disease (angiographic disease status)\n",
    "        -- Value 0: < 50% diameter narrowing\n",
    "        -- Value 1: > 50% diameter narrowing"
   ]
  },
  {
   "cell_type": "code",
   "execution_count": 28,
   "metadata": {},
   "outputs": [],
   "source": [
    "# column names\n",
    "names = ['age','sex','cp','trestbps','chol','fbs','restecg','thalach','exang', \\\n",
    "         'oldpeak','slope','ca','thal','target']\n",
    "\n",
    "# load data from Domino project directory\n",
    "hd_data = pd.read_csv(\"/mnt/data/raw/heart.csv\", header=None, names=names)"
   ]
  },
  {
   "cell_type": "code",
   "execution_count": 29,
   "metadata": {},
   "outputs": [],
   "source": [
    "# in case some data comes in as string, convert to numeric and coerce errors to NaN\n",
    "for col in hd_data.columns:  # Iterate over columns\n",
    "    hd_data[col] = pd.to_numeric(hd_data[col], errors='coerce')\n",
    "    \n",
    "# drop nulls\n",
    "hd_data.dropna(inplace=True)"
   ]
  },
  {
   "cell_type": "code",
   "execution_count": 30,
   "metadata": {},
   "outputs": [],
   "source": [
    "# function to force non-numeric data for categorical columns\n",
    "def force_non_numeric(data, cols):\n",
    "    for c in cols:\n",
    "        data[c] = 'text_' + data[c].map(str)  \n",
    "    return data"
   ]
  },
  {
   "cell_type": "code",
   "execution_count": 31,
   "metadata": {},
   "outputs": [],
   "source": [
    "cat_cols = ['cp', 'restecg', 'slope', 'ca', 'thal']\n",
    "hd_data = force_non_numeric(hd_data, cat_cols)"
   ]
  },
  {
   "cell_type": "code",
   "execution_count": 32,
   "metadata": {},
   "outputs": [],
   "source": [
    "# create MLBox random samples for train and test\n",
    "hd_data_train = hd_data.sample(frac=0.7, replace=False, random_state=1)\n",
    "hd_data_test = hd_data[~hd_data.isin(hd_data_train)].dropna()\n",
    "hd_data_test_wo_target = hd_data_test.drop('target', axis=1)\n",
    "\n",
    "hd_data_train.to_csv('/mnt/data/processed/hd_data_train.csv', index=False)\n",
    "hd_data_test.to_csv('/mnt/data/processed/hd_data_test.csv', index=False)\n",
    "hd_data_test_wo_target.to_csv('/mnt/data/processed/hd_data_test_wo_target.csv', index=False)"
   ]
  },
  {
   "cell_type": "code",
   "execution_count": 33,
   "metadata": {},
   "outputs": [],
   "source": [
    "# the list of paths to your train datasets and test datasets\n",
    "paths_hd = [\"/mnt/data/processed/hd_data_train.csv\", \\\n",
    "         \"/mnt/data/processed/hd_data_test_wo_target.csv\"]\n",
    "\n",
    "# the name of the target you try to predict (classification or regression)\n",
    "target_hd = \"target\""
   ]
  },
  {
   "cell_type": "markdown",
   "metadata": {},
   "source": [
    "#### Process the data\n",
    "\n",
    "Pass the training set (with the target) and the test set (without the target) to the **train_test_split()** funciton. This automatically cleans both data sets.\n",
    "\n",
    "Use **to_path** to keep your world organized. In my project I want everything in the results directory so we use **/mnt/results**.\n",
    "\n",
    "Note that after adding text to the numeric/categorical columns, they are now recognized as such. "
   ]
  },
  {
   "cell_type": "code",
   "execution_count": 34,
   "metadata": {},
   "outputs": [
    {
     "name": "stdout",
     "output_type": "stream",
     "text": [
      "\n",
      "reading csv : hd_data_train.csv ...\n",
      "cleaning data ...\n",
      "CPU time: 0.042601823806762695 seconds\n",
      "\n",
      "reading csv : hd_data_test_wo_target.csv ...\n",
      "cleaning data ...\n",
      "CPU time: 0.03788352012634277 seconds\n",
      "\n",
      "> Number of common features : 13\n",
      "\n",
      "gathering and crunching for train and test datasets ...\n",
      "reindexing for train and test datasets ...\n",
      "dropping training duplicates ...\n",
      "dropping constant variables on training set ...\n",
      "\n",
      "> Number of categorical features: 5\n",
      "> Number of numerical features: 8\n",
      "> Number of training samples : 211\n",
      "> Number of test samples : 91\n",
      "\n",
      "> You have no missing values on train set...\n",
      "\n",
      "> Task : classification\n",
      "1.0    109\n",
      "0.0    102\n",
      "Name: target, dtype: int64\n",
      "\n",
      "encoding target ...\n"
     ]
    }
   ],
   "source": [
    "# to read and preprocess your files\n",
    "mlb_data_hd = Reader(sep=\",\", to_path = '/mnt/results').train_test_split(paths_hd, target_hd)"
   ]
  },
  {
   "cell_type": "markdown",
   "metadata": {},
   "source": [
    "#### Last processing note\n",
    "\n",
    "After building the dictionary, we processes the data as below with the nice MLBox feature of automatically droping ids and [drifting variables](https://github.com/AxeldeRomblay/MLBox/blob/master/docs/webinars/features.pdf) between train and test datasets. I have found that it does not automatically drop ids. The source code only seems to detect drift, which is not found in randomly generated id fields."
   ]
  },
  {
   "cell_type": "code",
   "execution_count": 35,
   "metadata": {},
   "outputs": [
    {
     "name": "stdout",
     "output_type": "stream",
     "text": [
      "\n",
      "computing drifts ...\n",
      "CPU time: 0.1304154396057129 seconds\n",
      "\n",
      "> Top 10 drifts\n",
      "\n",
      "('age', 0.14152992087364535)\n",
      "('thalach', 0.13771835705387803)\n",
      "('thal', 0.08920237769704542)\n",
      "('restecg', 0.0744704437239303)\n",
      "('ca', 0.06710837228884792)\n",
      "('sex', 0.046450382176387084)\n",
      "('trestbps', 0.03950679497028964)\n",
      "('oldpeak', 0.03157616833990917)\n",
      "('cp', 0.027520736487102404)\n",
      "('fbs', 0.023051030639217762)\n",
      "\n",
      "> Deleted variables : []\n",
      "> Drift coefficients dumped into directory : /mnt/results\n"
     ]
    }
   ],
   "source": [
    "# drop IDs and useless columns\n",
    "mlb_data_hd = Drift_thresholder(to_path='/mnt/results').fit_transform(mlb_data_hd)"
   ]
  },
  {
   "cell_type": "markdown",
   "metadata": {},
   "source": [
    "#### Build the modeling routine\n",
    "\n",
    "#### Defining the search criteria\n",
    "\n",
    "MLBox gives you good control over the modeling algorithms and parameter settings to try.\n",
    "\n",
    "You define a space dictionary and pass it to the **Optimiser** function.\n",
    "\n",
    "Then you pass that Optimiser and the data dictionary to the **Predictor** function."
   ]
  },
  {
   "cell_type": "code",
   "execution_count": 36,
   "metadata": {},
   "outputs": [],
   "source": [
    "space = {\n",
    "\n",
    "        'ne__numerical_strategy' : {\"space\" : [0, 'mean']},\n",
    "\n",
    "        'ce__strategy' : {\"space\" : [\"label_encoding\", \"random_projection\", \\\n",
    "                                     \"entity_embedding\"]},\n",
    "\n",
    "        'fs__strategy' : {\"space\" : [\"variance\", \"rf_feature_importance\"]},\n",
    "        'fs__threshold': {\"search\" : \"choice\", \"space\" : [0.1, 0.2, 0.3]},\n",
    "\n",
    "        'est__strategy' : {\"space\" : [\"LightGBM\", \"RandomForest\", \"ExtraTrees\",\\\n",
    "                                      \"Linear\"]},\n",
    "        'est__max_depth' : {\"search\" : \"choice\", \"space\" : [5,10,20]},\n",
    "        'est__subsample' : {\"search\" : \"uniform\", \"space\" : [0.6,0.7]}\n",
    "\n",
    "        }"
   ]
  },
  {
   "cell_type": "code",
   "execution_count": 37,
   "metadata": {},
   "outputs": [
    {
     "name": "stdout",
     "output_type": "stream",
     "text": [
      "##################################################### testing hyper-parameters... #####################################################\n",
      ">>> NA ENCODER :{'numerical_strategy': 0, 'categorical_strategy': '<NULL>'}\n",
      ">>> CA ENCODER :{'strategy': 'random_projection'}   \n",
      ">>> FEATURE SELECTOR :{'strategy': 'variance', 'threshold': 0.3}\n",
      ">>> ESTIMATOR :{'strategy': 'RandomForest', 'max_depth': 20, 'bootstrap': True, 'class_weight': None, 'criterion': 'gini', 'max_features': 'sqrt', 'max_leaf_nodes': None, 'min_impurity_decrease': 0.0, 'min_impurity_split': None, 'min_samples_leaf': 1, 'min_samples_split': 2, 'min_weight_fraction_leaf': 0.0, 'n_estimators': 400, 'n_jobs': -1, 'oob_score': False, 'random_state': 0, 'verbose': 0, 'warm_start': False}\n",
      "  0%|          | 0/10 [00:00<?, ?it/s, best loss: ?]"
     ]
    },
    {
     "name": "stderr",
     "output_type": "stream",
     "text": [
      "/home/ubuntu/.local/lib/python3.6/site-packages/mlbox/optimisation/optimiser.py:74: UserWarning: Optimiser will save all your fitted models into directory '../results/joblib'. Please clear it regularly.\n",
      "  +str(self.to_path)+\"/joblib'. Please clear it regularly.\")\n",
      "/home/ubuntu/.local/lib/python3.6/site-packages/mlbox/model/classification/classifier.py:92: UserWarning: Invalid parameter for classifier RandomForest. Parameter IGNORED. Check the list of available parameters with `classifier.get_params().keys()`\n",
      "  + \". Parameter IGNORED. Check the list of \"\n",
      "\n"
     ]
    },
    {
     "name": "stdout",
     "output_type": "stream",
     "text": [
      "MEAN SCORE : neg_log_loss = -0.49375991086701737    \n",
      "VARIANCE : 0.08285445396939733 (fold 1 = -0.41090545689762004, fold 2 = -0.5766143648364147)\n",
      "CPU time: 0.8617739677429199 seconds                \n",
      "##################################################### testing hyper-parameters... #####################################################\n",
      ">>> NA ENCODER :{'numerical_strategy': 'mean', 'categorical_strategy': '<NULL>'}\n",
      ">>> CA ENCODER :{'strategy': 'label_encoding'}                                \n",
      ">>> FEATURE SELECTOR :{'strategy': 'variance', 'threshold': 0.2}              \n",
      ">>> ESTIMATOR :{'strategy': 'Linear', 'C': 1.0, 'class_weight': None, 'dual': False, 'fit_intercept': True, 'intercept_scaling': 1, 'l1_ratio': None, 'max_iter': 100, 'multi_class': 'ovr', 'n_jobs': -1, 'penalty': 'l2', 'random_state': 0, 'solver': 'liblinear', 'tol': 0.0001, 'verbose': 0, 'warm_start': False}\n",
      "MEAN SCORE : neg_log_loss = -0.5896209935209158                               \n",
      "VARIANCE : 0.1377512083396423 (fold 1 = -0.45186978518127346, fold 2 = -0.7273722018605581)\n",
      "CPU time: 0.07742857933044434 seconds                                         \n",
      "##################################################### testing hyper-parameters... #####################################################\n",
      ">>> NA ENCODER :{'numerical_strategy': 'mean', 'categorical_strategy': '<NULL>'}\n",
      ">>> CA ENCODER :{'strategy': 'entity_embedding'}                              \n",
      ">>> FEATURE SELECTOR :{'strategy': 'variance', 'threshold': 0.3}              \n",
      ">>> ESTIMATOR :{'strategy': 'Linear', 'C': 1.0, 'class_weight': None, 'dual': False, 'fit_intercept': True, 'intercept_scaling': 1, 'l1_ratio': None, 'max_iter': 100, 'multi_class': 'ovr', 'n_jobs': -1, 'penalty': 'l2', 'random_state': 0, 'solver': 'liblinear', 'tol': 0.0001, 'verbose': 0, 'warm_start': False}\n",
      " 20%|██        | 2/10 [00:00<00:06,  1.15it/s, best loss: 0.49375991086701737]"
     ]
    },
    {
     "name": "stderr",
     "output_type": "stream",
     "text": [
      "/home/ubuntu/.local/lib/python3.6/site-packages/mlbox/model/classification/classifier.py:92: UserWarning: Invalid parameter for classifier Linear. Parameter IGNORED. Check the list of available parameters with `classifier.get_params().keys()`\n",
      "  + \". Parameter IGNORED. Check the list of \"\n",
      "\n",
      "/home/ubuntu/.local/lib/python3.6/site-packages/sklearn/utils/deprecation.py:66: DeprecationWarning: Class Imputer is deprecated; Imputer was deprecated in version 0.20 and will be removed in 0.22. Import impute.SimpleImputer from sklearn instead.\n",
      "  warnings.warn(msg, category=DeprecationWarning)\n",
      "\n",
      "/home/ubuntu/.local/lib/python3.6/site-packages/sklearn/linear_model/logistic.py:1544: UserWarning: 'n_jobs' > 1 does not have any effect when 'solver' is set to 'liblinear'. Got 'n_jobs' = 4.\n",
      "  \" = {}.\".format(effective_n_jobs(self.n_jobs)))\n",
      "\n",
      "/home/ubuntu/.local/lib/python3.6/site-packages/sklearn/utils/deprecation.py:66: DeprecationWarning: Class Imputer is deprecated; Imputer was deprecated in version 0.20 and will be removed in 0.22. Import impute.SimpleImputer from sklearn instead.\n",
      "  warnings.warn(msg, category=DeprecationWarning)\n",
      "\n",
      "/home/ubuntu/.local/lib/python3.6/site-packages/sklearn/linear_model/logistic.py:1544: UserWarning: 'n_jobs' > 1 does not have any effect when 'solver' is set to 'liblinear'. Got 'n_jobs' = 4.\n",
      "  \" = {}.\".format(effective_n_jobs(self.n_jobs)))\n",
      "\n",
      "/home/ubuntu/.local/lib/python3.6/site-packages/mlbox/model/classification/classifier.py:92: UserWarning: Invalid parameter for classifier Linear. Parameter IGNORED. Check the list of available parameters with `classifier.get_params().keys()`\n",
      "  + \". Parameter IGNORED. Check the list of \"\n",
      "\n",
      "/home/ubuntu/.local/lib/python3.6/site-packages/sklearn/utils/deprecation.py:66: DeprecationWarning: Class Imputer is deprecated; Imputer was deprecated in version 0.20 and will be removed in 0.22. Import impute.SimpleImputer from sklearn instead.\n",
      "  warnings.warn(msg, category=DeprecationWarning)\n",
      "\n",
      "/home/ubuntu/.local/lib/python3.6/site-packages/sklearn/linear_model/logistic.py:1544: UserWarning: 'n_jobs' > 1 does not have any effect when 'solver' is set to 'liblinear'. Got 'n_jobs' = 4.\n",
      "  \" = {}.\".format(effective_n_jobs(self.n_jobs)))\n",
      "\n",
      "/home/ubuntu/.local/lib/python3.6/site-packages/sklearn/utils/deprecation.py:66: DeprecationWarning: Class Imputer is deprecated; Imputer was deprecated in version 0.20 and will be removed in 0.22. Import impute.SimpleImputer from sklearn instead.\n",
      "  warnings.warn(msg, category=DeprecationWarning)\n",
      "\n"
     ]
    },
    {
     "name": "stdout",
     "output_type": "stream",
     "text": [
      "MEAN SCORE : neg_log_loss = -0.5518733951240642                               \n",
      "VARIANCE : 0.06004658203846455 (fold 1 = -0.49182681308559967, fold 2 = -0.6119199771625288)\n",
      "CPU time: 3.0330495834350586 seconds                                          \n",
      "##################################################### testing hyper-parameters... #####################################################\n",
      ">>> NA ENCODER :{'numerical_strategy': 0, 'categorical_strategy': '<NULL>'}   \n",
      ">>> CA ENCODER :{'strategy': 'random_projection'}                             \n",
      ">>> FEATURE SELECTOR :{'strategy': 'variance', 'threshold': 0.1}              \n",
      ">>> ESTIMATOR :{'strategy': 'LightGBM', 'max_depth': 20, 'subsample': 0.6045062493390837, 'boosting_type': 'gbdt', 'class_weight': None, 'colsample_bytree': 0.8, 'importance_type': 'split', 'learning_rate': 0.05, 'min_child_samples': 20, 'min_child_weight': 0.001, 'min_split_gain': 0.0, 'n_estimators': 500, 'n_jobs': -1, 'num_leaves': 31, 'objective': None, 'random_state': None, 'reg_alpha': 0.0, 'reg_lambda': 0.0, 'silent': True, 'subsample_for_bin': 200000, 'subsample_freq': 0, 'nthread': -1, 'seed': 0}\n",
      " 30%|███       | 3/10 [00:04<00:07,  1.08s/it, best loss: 0.49375991086701737]"
     ]
    },
    {
     "name": "stderr",
     "output_type": "stream",
     "text": [
      "/home/ubuntu/.local/lib/python3.6/site-packages/sklearn/linear_model/logistic.py:1544: UserWarning: 'n_jobs' > 1 does not have any effect when 'solver' is set to 'liblinear'. Got 'n_jobs' = 4.\n",
      "  \" = {}.\".format(effective_n_jobs(self.n_jobs)))\n",
      "\n"
     ]
    },
    {
     "name": "stdout",
     "output_type": "stream",
     "text": [
      "MEAN SCORE : neg_log_loss = -0.7073377054062613                               \n",
      "VARIANCE : 0.34851575890520126 (fold 1 = -0.35882194650106003, fold 2 = -1.0558534643114625)\n",
      "CPU time: 0.214324951171875 seconds                                           \n",
      "##################################################### testing hyper-parameters... #####################################################\n",
      ">>> NA ENCODER :{'numerical_strategy': 'mean', 'categorical_strategy': '<NULL>'}\n",
      ">>> CA ENCODER :{'strategy': 'random_projection'}                             \n",
      ">>> FEATURE SELECTOR :{'strategy': 'variance', 'threshold': 0.1}              \n",
      ">>> ESTIMATOR :{'strategy': 'RandomForest', 'max_depth': 20, 'bootstrap': True, 'class_weight': None, 'criterion': 'gini', 'max_features': 'sqrt', 'max_leaf_nodes': None, 'min_impurity_decrease': 0.0, 'min_impurity_split': None, 'min_samples_leaf': 1, 'min_samples_split': 2, 'min_weight_fraction_leaf': 0.0, 'n_estimators': 400, 'n_jobs': -1, 'oob_score': False, 'random_state': 0, 'verbose': 0, 'warm_start': False}\n",
      " 40%|████      | 4/10 [00:04<00:04,  1.22it/s, best loss: 0.49375991086701737]"
     ]
    },
    {
     "name": "stderr",
     "output_type": "stream",
     "text": [
      "/home/ubuntu/.local/lib/python3.6/site-packages/mlbox/model/classification/classifier.py:92: UserWarning: Invalid parameter for classifier RandomForest. Parameter IGNORED. Check the list of available parameters with `classifier.get_params().keys()`\n",
      "  + \". Parameter IGNORED. Check the list of \"\n",
      "\n",
      "/home/ubuntu/.local/lib/python3.6/site-packages/sklearn/utils/deprecation.py:66: DeprecationWarning: Class Imputer is deprecated; Imputer was deprecated in version 0.20 and will be removed in 0.22. Import impute.SimpleImputer from sklearn instead.\n",
      "  warnings.warn(msg, category=DeprecationWarning)\n",
      "\n",
      "/home/ubuntu/.local/lib/python3.6/site-packages/sklearn/utils/deprecation.py:66: DeprecationWarning: Class Imputer is deprecated; Imputer was deprecated in version 0.20 and will be removed in 0.22. Import impute.SimpleImputer from sklearn instead.\n",
      "  warnings.warn(msg, category=DeprecationWarning)\n",
      "\n"
     ]
    },
    {
     "name": "stdout",
     "output_type": "stream",
     "text": [
      "MEAN SCORE : neg_log_loss = -0.4832465820704197                               \n",
      "VARIANCE : 0.07856052659436771 (fold 1 = -0.404686055476052, fold 2 = -0.5618071086647874)\n",
      "CPU time: 1.0462853908538818 seconds                                          \n",
      "##################################################### testing hyper-parameters... #####################################################\n",
      ">>> NA ENCODER :{'numerical_strategy': 0, 'categorical_strategy': '<NULL>'}  \n",
      ">>> CA ENCODER :{'strategy': 'label_encoding'}                               \n",
      ">>> FEATURE SELECTOR :{'strategy': 'variance', 'threshold': 0.3}             \n",
      ">>> ESTIMATOR :{'strategy': 'Linear', 'C': 1.0, 'class_weight': None, 'dual': False, 'fit_intercept': True, 'intercept_scaling': 1, 'l1_ratio': None, 'max_iter': 100, 'multi_class': 'ovr', 'n_jobs': -1, 'penalty': 'l2', 'random_state': 0, 'solver': 'liblinear', 'tol': 0.0001, 'verbose': 0, 'warm_start': False}\n",
      "MEAN SCORE : neg_log_loss = -0.5711533744167593                              \n",
      "VARIANCE : 0.1562998021654667 (fold 1 = -0.41485357225129255, fold 2 = -0.727453176582226)\n",
      "CPU time: 0.07033801078796387 seconds                                        \n",
      "##################################################### testing hyper-parameters... #####################################################\n",
      ">>> NA ENCODER :{'numerical_strategy': 'mean', 'categorical_strategy': '<NULL>'}\n",
      ">>> CA ENCODER :{'strategy': 'random_projection'}                            \n",
      ">>> FEATURE SELECTOR :{'strategy': 'rf_feature_importance', 'threshold': 0.3}\n",
      ">>> ESTIMATOR :{'strategy': 'Linear', 'C': 1.0, 'class_weight': None, 'dual': False, 'fit_intercept': True, 'intercept_scaling': 1, 'l1_ratio': None, 'max_iter': 100, 'multi_class': 'ovr', 'n_jobs': -1, 'penalty': 'l2', 'random_state': 0, 'solver': 'liblinear', 'tol': 0.0001, 'verbose': 0, 'warm_start': False}\n",
      " 60%|██████    | 6/10 [00:05<00:03,  1.12it/s, best loss: 0.4832465820704197]"
     ]
    },
    {
     "name": "stderr",
     "output_type": "stream",
     "text": [
      "/home/ubuntu/.local/lib/python3.6/site-packages/mlbox/model/classification/classifier.py:92: UserWarning: Invalid parameter for classifier Linear. Parameter IGNORED. Check the list of available parameters with `classifier.get_params().keys()`\n",
      "  + \". Parameter IGNORED. Check the list of \"\n",
      "\n",
      "/home/ubuntu/.local/lib/python3.6/site-packages/sklearn/linear_model/logistic.py:1544: UserWarning: 'n_jobs' > 1 does not have any effect when 'solver' is set to 'liblinear'. Got 'n_jobs' = 4.\n",
      "  \" = {}.\".format(effective_n_jobs(self.n_jobs)))\n",
      "\n",
      "/home/ubuntu/.local/lib/python3.6/site-packages/sklearn/linear_model/logistic.py:1544: UserWarning: 'n_jobs' > 1 does not have any effect when 'solver' is set to 'liblinear'. Got 'n_jobs' = 4.\n",
      "  \" = {}.\".format(effective_n_jobs(self.n_jobs)))\n",
      "\n",
      "/home/ubuntu/.local/lib/python3.6/site-packages/mlbox/model/classification/classifier.py:92: UserWarning: Invalid parameter for classifier Linear. Parameter IGNORED. Check the list of available parameters with `classifier.get_params().keys()`\n",
      "  + \". Parameter IGNORED. Check the list of \"\n",
      "\n"
     ]
    },
    {
     "name": "stdout",
     "output_type": "stream",
     "text": [
      "MEAN SCORE : neg_log_loss = -0.5896614808877094                              \n",
      "VARIANCE : 0.13779169469416513 (fold 1 = -0.45186978619354423, fold 2 = -0.7274531755818745)\n",
      "CPU time: 0.3496098518371582 seconds                                         \n",
      "##################################################### testing hyper-parameters... #####################################################\n",
      ">>> NA ENCODER :{'numerical_strategy': 0, 'categorical_strategy': '<NULL>'}  \n",
      ">>> CA ENCODER :{'strategy': 'label_encoding'}                               \n",
      ">>> FEATURE SELECTOR :{'strategy': 'rf_feature_importance', 'threshold': 0.1}\n",
      ">>> ESTIMATOR :{'strategy': 'ExtraTrees', 'max_depth': 5, 'bootstrap': True, 'class_weight': None, 'criterion': 'gini', 'max_features': 'sqrt', 'max_leaf_nodes': None, 'min_impurity_decrease': 0.0, 'min_impurity_split': None, 'min_samples_leaf': 1, 'min_samples_split': 2, 'min_weight_fraction_leaf': 0.0, 'n_estimators': 400, 'n_jobs': -1, 'oob_score': False, 'random_state': 0, 'verbose': 0, 'warm_start': False}\n",
      " 70%|███████   | 7/10 [00:05<00:02,  1.45it/s, best loss: 0.4832465820704197]"
     ]
    },
    {
     "name": "stderr",
     "output_type": "stream",
     "text": [
      "/home/ubuntu/.local/lib/python3.6/site-packages/sklearn/linear_model/logistic.py:1544: UserWarning: 'n_jobs' > 1 does not have any effect when 'solver' is set to 'liblinear'. Got 'n_jobs' = 4.\n",
      "  \" = {}.\".format(effective_n_jobs(self.n_jobs)))\n",
      "\n",
      "/home/ubuntu/.local/lib/python3.6/site-packages/sklearn/linear_model/logistic.py:1544: UserWarning: 'n_jobs' > 1 does not have any effect when 'solver' is set to 'liblinear'. Got 'n_jobs' = 4.\n",
      "  \" = {}.\".format(effective_n_jobs(self.n_jobs)))\n",
      "\n",
      "/home/ubuntu/.local/lib/python3.6/site-packages/mlbox/model/classification/classifier.py:92: UserWarning: Invalid parameter for classifier ExtraTrees. Parameter IGNORED. Check the list of available parameters with `classifier.get_params().keys()`\n",
      "  + \". Parameter IGNORED. Check the list of \"\n",
      "\n"
     ]
    },
    {
     "name": "stdout",
     "output_type": "stream",
     "text": [
      "MEAN SCORE : neg_log_loss = -0.4580266598958518                              \n",
      "VARIANCE : 0.03461159117412102 (fold 1 = -0.42341506872173074, fold 2 = -0.4926382510699728)\n",
      "CPU time: 1.1533076763153076 seconds                                         \n",
      "##################################################### testing hyper-parameters... #####################################################\n",
      ">>> NA ENCODER :{'numerical_strategy': 0, 'categorical_strategy': '<NULL>'}  \n",
      ">>> CA ENCODER :{'strategy': 'label_encoding'}                               \n",
      ">>> FEATURE SELECTOR :{'strategy': 'rf_feature_importance', 'threshold': 0.2}\n",
      ">>> ESTIMATOR :{'strategy': 'ExtraTrees', 'max_depth': 20, 'bootstrap': True, 'class_weight': None, 'criterion': 'gini', 'max_features': 'sqrt', 'max_leaf_nodes': None, 'min_impurity_decrease': 0.0, 'min_impurity_split': None, 'min_samples_leaf': 1, 'min_samples_split': 2, 'min_weight_fraction_leaf': 0.0, 'n_estimators': 400, 'n_jobs': -1, 'oob_score': False, 'random_state': 0, 'verbose': 0, 'warm_start': False}\n",
      " 80%|████████  | 8/10 [00:06<00:01,  1.20it/s, best loss: 0.4580266598958518]"
     ]
    },
    {
     "name": "stderr",
     "output_type": "stream",
     "text": [
      "/home/ubuntu/.local/lib/python3.6/site-packages/mlbox/model/classification/classifier.py:92: UserWarning: Invalid parameter for classifier ExtraTrees. Parameter IGNORED. Check the list of available parameters with `classifier.get_params().keys()`\n",
      "  + \". Parameter IGNORED. Check the list of \"\n",
      "\n"
     ]
    },
    {
     "name": "stdout",
     "output_type": "stream",
     "text": [
      "MEAN SCORE : neg_log_loss = -0.45851525299008816                             \n",
      "VARIANCE : 0.04524559855903626 (fold 1 = -0.4132696544310519, fold 2 = -0.5037608515491244)\n",
      "CPU time: 1.0636494159698486 seconds                                         \n",
      "##################################################### testing hyper-parameters... #####################################################\n",
      ">>> NA ENCODER :{'numerical_strategy': 'mean', 'categorical_strategy': '<NULL>'}\n",
      ">>> CA ENCODER :{'strategy': 'label_encoding'}                               \n",
      ">>> FEATURE SELECTOR :{'strategy': 'rf_feature_importance', 'threshold': 0.3}\n",
      ">>> ESTIMATOR :{'strategy': 'RandomForest', 'max_depth': 10, 'bootstrap': True, 'class_weight': None, 'criterion': 'gini', 'max_features': 'sqrt', 'max_leaf_nodes': None, 'min_impurity_decrease': 0.0, 'min_impurity_split': None, 'min_samples_leaf': 1, 'min_samples_split': 2, 'min_weight_fraction_leaf': 0.0, 'n_estimators': 400, 'n_jobs': -1, 'oob_score': False, 'random_state': 0, 'verbose': 0, 'warm_start': False}\n",
      " 90%|█████████ | 9/10 [00:07<00:00,  1.11it/s, best loss: 0.4580266598958518]"
     ]
    },
    {
     "name": "stderr",
     "output_type": "stream",
     "text": [
      "/home/ubuntu/.local/lib/python3.6/site-packages/mlbox/model/classification/classifier.py:92: UserWarning: Invalid parameter for classifier RandomForest. Parameter IGNORED. Check the list of available parameters with `classifier.get_params().keys()`\n",
      "  + \". Parameter IGNORED. Check the list of \"\n",
      "\n"
     ]
    },
    {
     "name": "stdout",
     "output_type": "stream",
     "text": [
      "MEAN SCORE : neg_log_loss = -0.4821777973260123                              \n",
      "VARIANCE : 0.04563708147096665 (fold 1 = -0.43654071585504567, fold 2 = -0.527814878796979)\n",
      "CPU time: 1.110327959060669 seconds                                          \n",
      "100%|██████████| 10/10 [00:09<00:00,  1.10it/s, best loss: 0.4580266598958518]\n",
      "\n",
      "\n",
      "~~~~~~~~~~~~~~~~~~~~~~~~~~~~~~~~~~~~~~~~~~~~~~~~~~~~~~~~~~~~~~~~~~~~~~~~~~~~~~~~~~~~~~~~~~~~~~~~~~~~~~~~~~~~~~~~~~~~~~~~~~~~~~~~~~~~~~~~~\n",
      "~~~~~~~~~~~~~~~~~~~~~~~~~~~~~~~~~~~~~~~~~~~~~~~~~~~~~~~~~ BEST HYPER-PARAMETERS ~~~~~~~~~~~~~~~~~~~~~~~~~~~~~~~~~~~~~~~~~~~~~~~~~~~~~~~~~\n",
      "~~~~~~~~~~~~~~~~~~~~~~~~~~~~~~~~~~~~~~~~~~~~~~~~~~~~~~~~~~~~~~~~~~~~~~~~~~~~~~~~~~~~~~~~~~~~~~~~~~~~~~~~~~~~~~~~~~~~~~~~~~~~~~~~~~~~~~~~~\n",
      "\n",
      "{'ce__strategy': 'label_encoding', 'est__max_depth': 5, 'est__strategy': 'ExtraTrees', 'est__subsample': 0.6726522327502583, 'fs__strategy': 'rf_feature_importance', 'fs__threshold': 0.1, 'ne__numerical_strategy': 0}\n",
      "CPU times: user 8.15 s, sys: 308 ms, total: 8.46 s\n",
      "Wall time: 9.09 s\n"
     ]
    }
   ],
   "source": [
    "%%time\n",
    "\n",
    "best_hd = Optimiser(to_path = '../results').optimise(space, mlb_data_hd, max_evals = 10)"
   ]
  },
  {
   "cell_type": "code",
   "execution_count": 38,
   "metadata": {},
   "outputs": [
    {
     "name": "stdout",
     "output_type": "stream",
     "text": [
      "\n",
      "fitting the pipeline ...\n"
     ]
    },
    {
     "name": "stderr",
     "output_type": "stream",
     "text": [
      "/home/ubuntu/.local/lib/python3.6/site-packages/mlbox/model/classification/classifier.py:92: UserWarning: Invalid parameter for classifier ExtraTrees. Parameter IGNORED. Check the list of available parameters with `classifier.get_params().keys()`\n",
      "  + \". Parameter IGNORED. Check the list of \"\n"
     ]
    },
    {
     "name": "stdout",
     "output_type": "stream",
     "text": [
      "CPU time: 0.9488317966461182 seconds\n",
      "\n",
      "> Feature importances dumped into directory : /mnt/results\n",
      "\n",
      "predicting ...\n",
      "CPU time: 0.11291813850402832 seconds\n",
      "\n",
      "> Overview on predictions : \n",
      "\n",
      "        0.0       1.0  target_predicted\n",
      "0  0.333017  0.666983                 1\n",
      "1  0.069111  0.930889                 1\n",
      "2  0.260245  0.739755                 1\n",
      "3  0.161627  0.838373                 1\n",
      "4  0.392079  0.607921                 1\n",
      "5  0.277344  0.722656                 1\n",
      "6  0.379687  0.620313                 1\n",
      "7  0.093433  0.906567                 1\n",
      "8  0.312530  0.687470                 1\n",
      "9  0.450790  0.549210                 1\n",
      "\n",
      "dumping predictions into directory : /mnt/results ...\n"
     ]
    },
    {
     "data": {
      "text/plain": [
       "<mlbox.prediction.predictor.Predictor at 0x7fa06573ebe0>"
      ]
     },
     "execution_count": 38,
     "metadata": {},
     "output_type": "execute_result"
    }
   ],
   "source": [
    "Predictor(to_path='/mnt/results').fit_predict(best_hd,mlb_data_hd)"
   ]
  },
  {
   "cell_type": "markdown",
   "metadata": {},
   "source": [
    "## Breast Cancer"
   ]
  },
  {
   "cell_type": "markdown",
   "metadata": {},
   "source": [
    "#### Load the breast cancer dataset"
   ]
  },
  {
   "cell_type": "code",
   "execution_count": 39,
   "metadata": {},
   "outputs": [],
   "source": [
    "'''\n",
    "Attribute Information:\n",
    "\n",
    "1) ID number \n",
    "2) Diagnosis (M = malignant, B = benign) \n",
    "3-32) \n",
    "\n",
    "Ten real-valued features are computed for each cell nucleus: \n",
    "\n",
    "a) radius (mean of distances from center to points on the perimeter) \n",
    "b) texture (standard deviation of gray-scale values) \n",
    "c) perimeter \n",
    "d) area \n",
    "e) smoothness (local variation in radius lengths) \n",
    "f) compactness (perimeter^2 / area - 1.0) \n",
    "g) concavity (severity of concave portions of the contour) \n",
    "h) concave points (number of concave portions of the contour) \n",
    "i) symmetry \n",
    "j) fractal dimension (\"coastline approximation\" - 1)\n",
    "'''\n",
    "\n",
    "#column names\n",
    "names = ['id', 'diagnosis', 'radius_mean', 'texture_mean', 'perimeter_mean', \\\n",
    "         'area_mean', 'smoothness_mean', 'compactness_mean', 'concavity_mean', \\\n",
    "         'concave_points_mean', 'symmetry_mean', 'fractal_dimension_mean', \\\n",
    "         'radius_se', 'texture_se', 'perimeter_se', 'area_se', 'smoothness_se', \\\n",
    "         'compactness_se', 'concavity_se', 'concave_points_se', 'symmetry_se', \\\n",
    "         'fractal_dimension_se', 'radius_worst', 'texture_worst', 'perimeter_worst', \\\n",
    "         'area_worst', 'smoothness_worst', 'compactness_worst', 'concavity_worst', \\\n",
    "         'concave_points_worst', 'symmetry_worst', 'fractal_dimension_worst']\n",
    "\n",
    "#load data from Domino project directory\n",
    "bc_data = pd.read_csv(\"/mnt/data/raw/breast_cancer.csv\", index_col=False, header=0, names=names)\n",
    "\n",
    "#create MLBox random samples for train and test\n",
    "bc_data_train = bc_data.sample(frac=0.7, replace=False, random_state=1)\n",
    "bc_data_test = bc_data[~bc_data.isin(bc_data_train)].dropna()\n",
    "bc_data_test_wo_target = bc_data_test.drop('diagnosis', axis=1)\n",
    "\n",
    "bc_data_train.to_csv('/mnt/data/processed/bc_data_train.csv', index=False)\n",
    "bc_data_test.to_csv('/mnt/data/processed/bc_data_test.csv', index=False)\n",
    "bc_data_test_wo_target.to_csv('/mnt/data/processed/bc_data_test_wo_target.csv', index=False)"
   ]
  },
  {
   "cell_type": "code",
   "execution_count": 40,
   "metadata": {},
   "outputs": [],
   "source": [
    "# the list of paths to your train datasets and test datasets\n",
    "paths_bc = [\"/mnt/data/processed/bc_data_train.csv\", \\\n",
    "         \"/mnt/data/processed/bc_data_test_wo_target.csv\"]\n",
    "\n",
    "# the name of the target you try to predict (classification or regression)\n",
    "target_bc = \"diagnosis\""
   ]
  },
  {
   "cell_type": "markdown",
   "metadata": {},
   "source": [
    "#### Process the data"
   ]
  },
  {
   "cell_type": "code",
   "execution_count": 41,
   "metadata": {},
   "outputs": [
    {
     "name": "stdout",
     "output_type": "stream",
     "text": [
      "\n",
      "reading csv : bc_data_train.csv ...\n",
      "cleaning data ...\n",
      "CPU time: 0.07143115997314453 seconds\n",
      "\n",
      "reading csv : bc_data_test_wo_target.csv ...\n",
      "cleaning data ...\n",
      "CPU time: 0.07071280479431152 seconds\n",
      "\n",
      "> Number of common features : 31\n",
      "\n",
      "gathering and crunching for train and test datasets ...\n",
      "reindexing for train and test datasets ...\n",
      "dropping training duplicates ...\n",
      "dropping constant variables on training set ...\n",
      "\n",
      "> Number of categorical features: 0\n",
      "> Number of numerical features: 31\n",
      "> Number of training samples : 398\n",
      "> Number of test samples : 171\n",
      "\n",
      "> You have no missing values on train set...\n",
      "\n",
      "> Task : classification\n",
      "B    249\n",
      "M    149\n",
      "Name: diagnosis, dtype: int64\n",
      "\n",
      "encoding target ...\n"
     ]
    }
   ],
   "source": [
    "# to read and preprocess your files\n",
    "mlb_data_bc = Reader(sep=\",\", to_path = '/mnt/results').train_test_split(paths_bc, target_bc)"
   ]
  },
  {
   "cell_type": "code",
   "execution_count": 42,
   "metadata": {},
   "outputs": [
    {
     "name": "stdout",
     "output_type": "stream",
     "text": [
      "\n",
      "computing drifts ...\n",
      "CPU time: 0.2409067153930664 seconds\n",
      "\n",
      "> Top 10 drifts\n",
      "\n",
      "('concave_points_se', 0.12935058328578597)\n",
      "('texture_worst', 0.10813953488372086)\n",
      "('smoothness_worst', 0.10493782180395828)\n",
      "('concavity_se', 0.10426929448886013)\n",
      "('smoothness_mean', 0.09663330331548314)\n",
      "('symmetry_worst', 0.07588524015425979)\n",
      "('compactness_worst', 0.07550199698904914)\n",
      "('radius_se', 0.07485890464635059)\n",
      "('area_worst', 0.07297396696203329)\n",
      "('smoothness_se', 0.06312650805326214)\n",
      "\n",
      "> Deleted variables : []\n",
      "> Drift coefficients dumped into directory : /mnt/results\n"
     ]
    }
   ],
   "source": [
    "# drop IDs and useless columns\n",
    "mlb_data_bc = Drift_thresholder(to_path='/mnt/results').fit_transform(mlb_data_bc)"
   ]
  },
  {
   "cell_type": "markdown",
   "metadata": {},
   "source": [
    "#### Optimise the space and fit the model"
   ]
  },
  {
   "cell_type": "code",
   "execution_count": 43,
   "metadata": {},
   "outputs": [
    {
     "name": "stdout",
     "output_type": "stream",
     "text": [
      "##################################################### testing hyper-parameters... #####################################################\n",
      ">>> NA ENCODER :{'numerical_strategy': 'mean', 'categorical_strategy': '<NULL>'}\n",
      ">>> CA ENCODER :{'strategy': 'entity_embedding'}    \n",
      ">>> FEATURE SELECTOR :{'strategy': 'variance', 'threshold': 0.3}\n",
      ">>> ESTIMATOR :{'strategy': 'ExtraTrees', 'max_depth': 5, 'bootstrap': True, 'class_weight': None, 'criterion': 'gini', 'max_features': 'sqrt', 'max_leaf_nodes': None, 'min_impurity_decrease': 0.0, 'min_impurity_split': None, 'min_samples_leaf': 1, 'min_samples_split': 2, 'min_weight_fraction_leaf': 0.0, 'n_estimators': 400, 'n_jobs': -1, 'oob_score': False, 'random_state': 0, 'verbose': 0, 'warm_start': False}\n",
      "  0%|          | 0/10 [00:00<?, ?it/s, best loss: ?]"
     ]
    },
    {
     "name": "stderr",
     "output_type": "stream",
     "text": [
      "/home/ubuntu/.local/lib/python3.6/site-packages/mlbox/optimisation/optimiser.py:74: UserWarning: Optimiser will save all your fitted models into directory '/mnt/results/joblib'. Please clear it regularly.\n",
      "  +str(self.to_path)+\"/joblib'. Please clear it regularly.\")\n",
      "/home/ubuntu/.local/lib/python3.6/site-packages/mlbox/model/classification/classifier.py:92: UserWarning: Invalid parameter for classifier ExtraTrees. Parameter IGNORED. Check the list of available parameters with `classifier.get_params().keys()`\n",
      "  + \". Parameter IGNORED. Check the list of \"\n",
      "\n",
      "/home/ubuntu/.local/lib/python3.6/site-packages/sklearn/utils/deprecation.py:66: DeprecationWarning: Class Imputer is deprecated; Imputer was deprecated in version 0.20 and will be removed in 0.22. Import impute.SimpleImputer from sklearn instead.\n",
      "  warnings.warn(msg, category=DeprecationWarning)\n",
      "\n",
      "/home/ubuntu/.local/lib/python3.6/site-packages/sklearn/utils/deprecation.py:66: DeprecationWarning: Class Imputer is deprecated; Imputer was deprecated in version 0.20 and will be removed in 0.22. Import impute.SimpleImputer from sklearn instead.\n",
      "  warnings.warn(msg, category=DeprecationWarning)\n",
      "\n"
     ]
    },
    {
     "name": "stdout",
     "output_type": "stream",
     "text": [
      "MEAN SCORE : neg_log_loss = -0.16601760645184827    \n",
      "VARIANCE : 0.0005732844143375299 (fold 1 = -0.16544432203751072, fold 2 = -0.16659089086618578)\n",
      "CPU time: 0.9426901340484619 seconds                \n",
      "##################################################### testing hyper-parameters... #####################################################\n",
      ">>> NA ENCODER :{'numerical_strategy': 'mean', 'categorical_strategy': '<NULL>'}\n",
      ">>> CA ENCODER :{'strategy': 'label_encoding'}                                \n",
      ">>> FEATURE SELECTOR :{'strategy': 'variance', 'threshold': 0.3}              \n",
      ">>> ESTIMATOR :{'strategy': 'RandomForest', 'max_depth': 10, 'bootstrap': True, 'class_weight': None, 'criterion': 'gini', 'max_features': 'sqrt', 'max_leaf_nodes': None, 'min_impurity_decrease': 0.0, 'min_impurity_split': None, 'min_samples_leaf': 1, 'min_samples_split': 2, 'min_weight_fraction_leaf': 0.0, 'n_estimators': 400, 'n_jobs': -1, 'oob_score': False, 'random_state': 0, 'verbose': 0, 'warm_start': False}\n",
      " 10%|█         | 1/10 [00:00<00:08,  1.05it/s, best loss: 0.16601760645184827]"
     ]
    },
    {
     "name": "stderr",
     "output_type": "stream",
     "text": [
      "/home/ubuntu/.local/lib/python3.6/site-packages/mlbox/model/classification/classifier.py:92: UserWarning: Invalid parameter for classifier RandomForest. Parameter IGNORED. Check the list of available parameters with `classifier.get_params().keys()`\n",
      "  + \". Parameter IGNORED. Check the list of \"\n",
      "\n",
      "/home/ubuntu/.local/lib/python3.6/site-packages/sklearn/utils/deprecation.py:66: DeprecationWarning: Class Imputer is deprecated; Imputer was deprecated in version 0.20 and will be removed in 0.22. Import impute.SimpleImputer from sklearn instead.\n",
      "  warnings.warn(msg, category=DeprecationWarning)\n",
      "\n",
      "/home/ubuntu/.local/lib/python3.6/site-packages/sklearn/utils/deprecation.py:66: DeprecationWarning: Class Imputer is deprecated; Imputer was deprecated in version 0.20 and will be removed in 0.22. Import impute.SimpleImputer from sklearn instead.\n",
      "  warnings.warn(msg, category=DeprecationWarning)\n",
      "\n"
     ]
    },
    {
     "name": "stdout",
     "output_type": "stream",
     "text": [
      "MEAN SCORE : neg_log_loss = -0.15384259712537718                              \n",
      "VARIANCE : 0.010918148696575411 (fold 1 = -0.14292444842880175, fold 2 = -0.16476074582195258)\n",
      "CPU time: 0.8942985534667969 seconds                                          \n",
      "##################################################### testing hyper-parameters... #####################################################\n",
      ">>> NA ENCODER :{'numerical_strategy': 'mean', 'categorical_strategy': '<NULL>'}\n",
      ">>> CA ENCODER :{'strategy': 'label_encoding'}                                \n",
      ">>> FEATURE SELECTOR :{'strategy': 'variance', 'threshold': 0.2}              \n",
      ">>> ESTIMATOR :{'strategy': 'RandomForest', 'max_depth': 20, 'bootstrap': True, 'class_weight': None, 'criterion': 'gini', 'max_features': 'sqrt', 'max_leaf_nodes': None, 'min_impurity_decrease': 0.0, 'min_impurity_split': None, 'min_samples_leaf': 1, 'min_samples_split': 2, 'min_weight_fraction_leaf': 0.0, 'n_estimators': 400, 'n_jobs': -1, 'oob_score': False, 'random_state': 0, 'verbose': 0, 'warm_start': False}\n",
      " 20%|██        | 2/10 [00:01<00:07,  1.07it/s, best loss: 0.15384259712537718]"
     ]
    },
    {
     "name": "stderr",
     "output_type": "stream",
     "text": [
      "/home/ubuntu/.local/lib/python3.6/site-packages/mlbox/model/classification/classifier.py:92: UserWarning: Invalid parameter for classifier RandomForest. Parameter IGNORED. Check the list of available parameters with `classifier.get_params().keys()`\n",
      "  + \". Parameter IGNORED. Check the list of \"\n",
      "\n",
      "/home/ubuntu/.local/lib/python3.6/site-packages/sklearn/utils/deprecation.py:66: DeprecationWarning: Class Imputer is deprecated; Imputer was deprecated in version 0.20 and will be removed in 0.22. Import impute.SimpleImputer from sklearn instead.\n",
      "  warnings.warn(msg, category=DeprecationWarning)\n",
      "\n",
      "/home/ubuntu/.local/lib/python3.6/site-packages/sklearn/utils/deprecation.py:66: DeprecationWarning: Class Imputer is deprecated; Imputer was deprecated in version 0.20 and will be removed in 0.22. Import impute.SimpleImputer from sklearn instead.\n",
      "  warnings.warn(msg, category=DeprecationWarning)\n",
      "\n"
     ]
    },
    {
     "name": "stdout",
     "output_type": "stream",
     "text": [
      "MEAN SCORE : neg_log_loss = -0.15344310487726132                              \n",
      "VARIANCE : 0.014118581089442568 (fold 1 = -0.13932452378781876, fold 2 = -0.1675616859667039)\n",
      "CPU time: 0.8772115707397461 seconds                                          \n",
      "##################################################### testing hyper-parameters... #####################################################\n",
      ">>> NA ENCODER :{'numerical_strategy': 0, 'categorical_strategy': '<NULL>'}   \n",
      ">>> CA ENCODER :{'strategy': 'random_projection'}                             \n",
      ">>> FEATURE SELECTOR :{'strategy': 'rf_feature_importance', 'threshold': 0.2} \n",
      ">>> ESTIMATOR :{'strategy': 'LightGBM', 'max_depth': 5, 'subsample': 0.6214889635325321, 'boosting_type': 'gbdt', 'class_weight': None, 'colsample_bytree': 0.8, 'importance_type': 'split', 'learning_rate': 0.05, 'min_child_samples': 20, 'min_child_weight': 0.001, 'min_split_gain': 0.0, 'n_estimators': 500, 'n_jobs': -1, 'num_leaves': 31, 'objective': None, 'random_state': None, 'reg_alpha': 0.0, 'reg_lambda': 0.0, 'silent': True, 'subsample_for_bin': 200000, 'subsample_freq': 0, 'nthread': -1, 'seed': 0}\n",
      "MEAN SCORE : neg_log_loss = -0.24929907817897623                              \n",
      "VARIANCE : 0.07160932336285745 (fold 1 = -0.1776897548161188, fold 2 = -0.3209084015418337)\n",
      "CPU time: 0.5459024906158447 seconds                                          \n",
      "##################################################### testing hyper-parameters... #####################################################\n",
      ">>> NA ENCODER :{'numerical_strategy': 0, 'categorical_strategy': '<NULL>'}   \n",
      ">>> CA ENCODER :{'strategy': 'random_projection'}                             \n",
      ">>> FEATURE SELECTOR :{'strategy': 'variance', 'threshold': 0.1}              \n",
      ">>> ESTIMATOR :{'strategy': 'Linear', 'C': 1.0, 'class_weight': None, 'dual': False, 'fit_intercept': True, 'intercept_scaling': 1, 'l1_ratio': None, 'max_iter': 100, 'multi_class': 'ovr', 'n_jobs': -1, 'penalty': 'l2', 'random_state': 0, 'solver': 'liblinear', 'tol': 0.0001, 'verbose': 0, 'warm_start': False}\n",
      "MEAN SCORE : neg_log_loss = -0.6698380210671342                               \n",
      "VARIANCE : 0.0006972148707411474 (fold 1 = -0.6705352359378753, fold 2 = -0.669140806196393)\n",
      "CPU time: 0.043205976486206055 seconds                                        \n",
      "##################################################### testing hyper-parameters... #####################################################\n",
      ">>> NA ENCODER :{'numerical_strategy': 0, 'categorical_strategy': '<NULL>'}   \n",
      ">>> CA ENCODER :{'strategy': 'random_projection'}                             \n",
      ">>> FEATURE SELECTOR :{'strategy': 'rf_feature_importance', 'threshold': 0.1} \n",
      ">>> ESTIMATOR :{'strategy': 'RandomForest', 'max_depth': 20, 'bootstrap': True, 'class_weight': None, 'criterion': 'gini', 'max_features': 'sqrt', 'max_leaf_nodes': None, 'min_impurity_decrease': 0.0, 'min_impurity_split': None, 'min_samples_leaf': 1, 'min_samples_split': 2, 'min_weight_fraction_leaf': 0.0, 'n_estimators': 400, 'n_jobs': -1, 'oob_score': False, 'random_state': 0, 'verbose': 0, 'warm_start': False}\n",
      " 50%|█████     | 5/10 [00:03<00:04,  1.23it/s, best loss: 0.15344310487726132]"
     ]
    },
    {
     "name": "stderr",
     "output_type": "stream",
     "text": [
      "/home/ubuntu/.local/lib/python3.6/site-packages/mlbox/model/classification/classifier.py:92: UserWarning: Invalid parameter for classifier Linear. Parameter IGNORED. Check the list of available parameters with `classifier.get_params().keys()`\n",
      "  + \". Parameter IGNORED. Check the list of \"\n",
      "\n",
      "/home/ubuntu/.local/lib/python3.6/site-packages/sklearn/linear_model/logistic.py:1544: UserWarning: 'n_jobs' > 1 does not have any effect when 'solver' is set to 'liblinear'. Got 'n_jobs' = 4.\n",
      "  \" = {}.\".format(effective_n_jobs(self.n_jobs)))\n",
      "\n",
      "/home/ubuntu/.local/lib/python3.6/site-packages/sklearn/linear_model/logistic.py:1544: UserWarning: 'n_jobs' > 1 does not have any effect when 'solver' is set to 'liblinear'. Got 'n_jobs' = 4.\n",
      "  \" = {}.\".format(effective_n_jobs(self.n_jobs)))\n",
      "\n",
      "/home/ubuntu/.local/lib/python3.6/site-packages/mlbox/model/classification/classifier.py:92: UserWarning: Invalid parameter for classifier RandomForest. Parameter IGNORED. Check the list of available parameters with `classifier.get_params().keys()`\n",
      "  + \". Parameter IGNORED. Check the list of \"\n",
      "\n"
     ]
    },
    {
     "name": "stdout",
     "output_type": "stream",
     "text": [
      "MEAN SCORE : neg_log_loss = -0.1527134976930898                               \n",
      "VARIANCE : 0.009199758701414928 (fold 1 = -0.14351373899167488, fold 2 = -0.16191325639450474)\n",
      "CPU time: 1.1181492805480957 seconds                                          \n",
      "##################################################### testing hyper-parameters... #####################################################\n",
      ">>> NA ENCODER :{'numerical_strategy': 0, 'categorical_strategy': '<NULL>'}  \n",
      ">>> CA ENCODER :{'strategy': 'random_projection'}                            \n",
      ">>> FEATURE SELECTOR :{'strategy': 'rf_feature_importance', 'threshold': 0.2}\n",
      ">>> ESTIMATOR :{'strategy': 'LightGBM', 'max_depth': 10, 'subsample': 0.698105747330585, 'boosting_type': 'gbdt', 'class_weight': None, 'colsample_bytree': 0.8, 'importance_type': 'split', 'learning_rate': 0.05, 'min_child_samples': 20, 'min_child_weight': 0.001, 'min_split_gain': 0.0, 'n_estimators': 500, 'n_jobs': -1, 'num_leaves': 31, 'objective': None, 'random_state': None, 'reg_alpha': 0.0, 'reg_lambda': 0.0, 'silent': True, 'subsample_for_bin': 200000, 'subsample_freq': 0, 'nthread': -1, 'seed': 0}\n",
      "MEAN SCORE : neg_log_loss = -0.24533295927739152                             \n",
      "VARIANCE : 0.06295567487418158 (fold 1 = -0.18237728440320994, fold 2 = -0.3082886341515731)\n",
      "CPU time: 0.3033590316772461 seconds                                         \n",
      "##################################################### testing hyper-parameters... #####################################################\n",
      ">>> NA ENCODER :{'numerical_strategy': 'mean', 'categorical_strategy': '<NULL>'}\n",
      ">>> CA ENCODER :{'strategy': 'random_projection'}                            \n",
      ">>> FEATURE SELECTOR :{'strategy': 'rf_feature_importance', 'threshold': 0.1}\n",
      ">>> ESTIMATOR :{'strategy': 'Linear', 'C': 1.0, 'class_weight': None, 'dual': False, 'fit_intercept': True, 'intercept_scaling': 1, 'l1_ratio': None, 'max_iter': 100, 'multi_class': 'ovr', 'n_jobs': -1, 'penalty': 'l2', 'random_state': 0, 'solver': 'liblinear', 'tol': 0.0001, 'verbose': 0, 'warm_start': False}\n",
      "MEAN SCORE : neg_log_loss = -0.6698380210671552                              \n",
      "VARIANCE : 0.0006972148707201642 (fold 1 = -0.6705352359378753, fold 2 = -0.669140806196435)\n",
      "CPU time: 0.051190853118896484 seconds                                       \n",
      "##################################################### testing hyper-parameters... #####################################################\n",
      ">>> NA ENCODER :{'numerical_strategy': 0, 'categorical_strategy': '<NULL>'}  \n",
      ">>> CA ENCODER :{'strategy': 'entity_embedding'}                             \n",
      ">>> FEATURE SELECTOR :{'strategy': 'variance', 'threshold': 0.3}             \n",
      ">>> ESTIMATOR :{'strategy': 'LightGBM', 'max_depth': 5, 'subsample': 0.6084751981680809, 'boosting_type': 'gbdt', 'class_weight': None, 'colsample_bytree': 0.8, 'importance_type': 'split', 'learning_rate': 0.05, 'min_child_samples': 20, 'min_child_weight': 0.001, 'min_split_gain': 0.0, 'n_estimators': 500, 'n_jobs': -1, 'num_leaves': 31, 'objective': None, 'random_state': None, 'reg_alpha': 0.0, 'reg_lambda': 0.0, 'silent': True, 'subsample_for_bin': 200000, 'subsample_freq': 0, 'nthread': -1, 'seed': 0}\n",
      " 80%|████████  | 8/10 [00:04<00:01,  1.62it/s, best loss: 0.1527134976930898]"
     ]
    },
    {
     "name": "stderr",
     "output_type": "stream",
     "text": [
      "/home/ubuntu/.local/lib/python3.6/site-packages/mlbox/model/classification/classifier.py:92: UserWarning: Invalid parameter for classifier Linear. Parameter IGNORED. Check the list of available parameters with `classifier.get_params().keys()`\n",
      "  + \". Parameter IGNORED. Check the list of \"\n",
      "\n",
      "/home/ubuntu/.local/lib/python3.6/site-packages/sklearn/linear_model/logistic.py:1544: UserWarning: 'n_jobs' > 1 does not have any effect when 'solver' is set to 'liblinear'. Got 'n_jobs' = 4.\n",
      "  \" = {}.\".format(effective_n_jobs(self.n_jobs)))\n",
      "\n",
      "/home/ubuntu/.local/lib/python3.6/site-packages/sklearn/linear_model/logistic.py:1544: UserWarning: 'n_jobs' > 1 does not have any effect when 'solver' is set to 'liblinear'. Got 'n_jobs' = 4.\n",
      "  \" = {}.\".format(effective_n_jobs(self.n_jobs)))\n",
      "\n"
     ]
    },
    {
     "name": "stdout",
     "output_type": "stream",
     "text": [
      "MEAN SCORE : neg_log_loss = -0.304993852096757                               \n",
      "VARIANCE : 0.06357587958766733 (fold 1 = -0.24141797250908964, fold 2 = -0.3685697316844243)\n",
      "CPU time: 0.3453526496887207 seconds                                         \n",
      "##################################################### testing hyper-parameters... #####################################################\n",
      ">>> NA ENCODER :{'numerical_strategy': 'mean', 'categorical_strategy': '<NULL>'}\n",
      ">>> CA ENCODER :{'strategy': 'entity_embedding'}                             \n",
      ">>> FEATURE SELECTOR :{'strategy': 'rf_feature_importance', 'threshold': 0.1}\n",
      ">>> ESTIMATOR :{'strategy': 'Linear', 'C': 1.0, 'class_weight': None, 'dual': False, 'fit_intercept': True, 'intercept_scaling': 1, 'l1_ratio': None, 'max_iter': 100, 'multi_class': 'ovr', 'n_jobs': -1, 'penalty': 'l2', 'random_state': 0, 'solver': 'liblinear', 'tol': 0.0001, 'verbose': 0, 'warm_start': False}\n",
      "MEAN SCORE : neg_log_loss = -0.6698380210671552                              \n",
      "VARIANCE : 0.0006972148707201642 (fold 1 = -0.6705352359378753, fold 2 = -0.669140806196435)\n",
      "CPU time: 0.08031725883483887 seconds                                        \n",
      "100%|██████████| 10/10 [00:05<00:00,  1.88it/s, best loss: 0.1527134976930898]\n",
      "\n",
      "\n",
      "~~~~~~~~~~~~~~~~~~~~~~~~~~~~~~~~~~~~~~~~~~~~~~~~~~~~~~~~~~~~~~~~~~~~~~~~~~~~~~~~~~~~~~~~~~~~~~~~~~~~~~~~~~~~~~~~~~~~~~~~~~~~~~~~~~~~~~~~~\n",
      "~~~~~~~~~~~~~~~~~~~~~~~~~~~~~~~~~~~~~~~~~~~~~~~~~~~~~~~~~ BEST HYPER-PARAMETERS ~~~~~~~~~~~~~~~~~~~~~~~~~~~~~~~~~~~~~~~~~~~~~~~~~~~~~~~~~\n",
      "~~~~~~~~~~~~~~~~~~~~~~~~~~~~~~~~~~~~~~~~~~~~~~~~~~~~~~~~~~~~~~~~~~~~~~~~~~~~~~~~~~~~~~~~~~~~~~~~~~~~~~~~~~~~~~~~~~~~~~~~~~~~~~~~~~~~~~~~~\n",
      "\n",
      "{'ce__strategy': 'random_projection', 'est__max_depth': 20, 'est__strategy': 'RandomForest', 'est__subsample': 0.6952550700061827, 'fs__strategy': 'rf_feature_importance', 'fs__threshold': 0.1, 'ne__numerical_strategy': 0}\n",
      "CPU times: user 7.45 s, sys: 308 ms, total: 7.76 s\n",
      "Wall time: 5.32 s\n"
     ]
    },
    {
     "name": "stderr",
     "output_type": "stream",
     "text": [
      "/home/ubuntu/.local/lib/python3.6/site-packages/mlbox/model/classification/classifier.py:92: UserWarning: Invalid parameter for classifier Linear. Parameter IGNORED. Check the list of available parameters with `classifier.get_params().keys()`\n",
      "  + \". Parameter IGNORED. Check the list of \"\n",
      "\n",
      "/home/ubuntu/.local/lib/python3.6/site-packages/sklearn/linear_model/logistic.py:1544: UserWarning: 'n_jobs' > 1 does not have any effect when 'solver' is set to 'liblinear'. Got 'n_jobs' = 4.\n",
      "  \" = {}.\".format(effective_n_jobs(self.n_jobs)))\n",
      "\n",
      "/home/ubuntu/.local/lib/python3.6/site-packages/sklearn/linear_model/logistic.py:1544: UserWarning: 'n_jobs' > 1 does not have any effect when 'solver' is set to 'liblinear'. Got 'n_jobs' = 4.\n",
      "  \" = {}.\".format(effective_n_jobs(self.n_jobs)))\n",
      "\n"
     ]
    }
   ],
   "source": [
    "%%time\n",
    "\n",
    "best_bc = Optimiser(to_path = '/mnt/results').optimise(space, mlb_data_bc, max_evals = 10)"
   ]
  },
  {
   "cell_type": "code",
   "execution_count": 44,
   "metadata": {},
   "outputs": [
    {
     "name": "stdout",
     "output_type": "stream",
     "text": [
      "\n",
      "fitting the pipeline ...\n"
     ]
    },
    {
     "name": "stderr",
     "output_type": "stream",
     "text": [
      "/home/ubuntu/.local/lib/python3.6/site-packages/mlbox/model/classification/classifier.py:92: UserWarning: Invalid parameter for classifier RandomForest. Parameter IGNORED. Check the list of available parameters with `classifier.get_params().keys()`\n",
      "  + \". Parameter IGNORED. Check the list of \"\n"
     ]
    },
    {
     "name": "stdout",
     "output_type": "stream",
     "text": [
      "CPU time: 0.9251341819763184 seconds\n",
      "\n",
      "> Feature importances dumped into directory : /mnt/results\n",
      "\n",
      "predicting ...\n",
      "CPU time: 0.10654902458190918 seconds\n",
      "\n",
      "> Overview on predictions : \n",
      "\n",
      "        B       M diagnosis_predicted\n",
      "0  0.0000  1.0000                   M\n",
      "1  0.0950  0.9050                   M\n",
      "2  0.2100  0.7900                   M\n",
      "3  0.0100  0.9900                   M\n",
      "4  0.9800  0.0200                   B\n",
      "5  0.0625  0.9375                   M\n",
      "6  0.0025  0.9975                   M\n",
      "7  0.0225  0.9775                   M\n",
      "8  0.0000  1.0000                   M\n",
      "9  0.2825  0.7175                   M\n",
      "\n",
      "dumping predictions into directory : /mnt/results ...\n"
     ]
    },
    {
     "data": {
      "text/plain": [
       "<mlbox.prediction.predictor.Predictor at 0x7f9fceac2630>"
      ]
     },
     "execution_count": 44,
     "metadata": {},
     "output_type": "execute_result"
    }
   ],
   "source": [
    "Predictor(to_path='/mnt/results').fit_predict(best_bc,mlb_data_bc)"
   ]
  },
  {
   "cell_type": "markdown",
   "metadata": {},
   "source": [
    "## Print Accuracy and Save to Domino Stats File\n",
    "\n",
    "Saving stats to this file [allows Domino to track and trend them in the Experiment Manager](https://support.dominodatalab.com/hc/en-us/articles/204348169-Diagnostic-statistics-with-dominostats-json) when this notebook is run as a batch or scheduled job."
   ]
  },
  {
   "cell_type": "code",
   "execution_count": 45,
   "metadata": {},
   "outputs": [],
   "source": [
    "# this predictions file is the output of the Prediction funtion from above\n",
    "bc_pred = pd.read_csv('/mnt/results/diagnosis_predictions.csv')\n",
    "y_bc_pred = bc_pred['diagnosis_predicted']\n",
    "\n",
    "# these are the answers from the file stored in the project\n",
    "bc_test = pd.read_csv('/mnt/data/processed/bc_data_test.csv')\n",
    "y_bc_test = bc_test['diagnosis']\n",
    "\n",
    "# this predictions file is the output of the Prediction funtion from above\n",
    "hd_pred = pd.read_csv('/mnt/results/target_predictions.csv')\n",
    "y_hd_pred = hd_pred['target_predicted']\n",
    "\n",
    "# these are the answers from the file stored in the project\n",
    "hd_test = pd.read_csv('/mnt/data/processed/hd_data_test.csv')\n",
    "y_hd_test = hd_test['target']"
   ]
  },
  {
   "cell_type": "code",
   "execution_count": 46,
   "metadata": {},
   "outputs": [
    {
     "name": "stdout",
     "output_type": "stream",
     "text": [
      "bc  0.9707602339181286\n",
      "hd  0.9010989010989011\n"
     ]
    }
   ],
   "source": [
    "import sklearn\n",
    "\n",
    "hd_acc = sklearn.metrics.accuracy_score(y_hd_test,y_hd_pred)\n",
    "bc_acc = sklearn.metrics.accuracy_score(y_bc_test,y_bc_pred)\n",
    "\n",
    "print('bc ', bc_acc)\n",
    "print('hd ', hd_acc)"
   ]
  },
  {
   "cell_type": "markdown",
   "metadata": {},
   "source": [
    "#### Save to Domino"
   ]
  },
  {
   "cell_type": "code",
   "execution_count": 47,
   "metadata": {},
   "outputs": [],
   "source": [
    "import json\n",
    "with open('/mnt/dominostats.json', 'w') as f:\n",
    "    f.write(json.dumps( {\"HD_ACC\": hd_acc, \"BC_ACC\": bc_acc}))"
   ]
  }
 ],
 "metadata": {
  "kernelspec": {
   "display_name": "Python 3",
   "language": "python",
   "name": "python3"
  },
  "language_info": {
   "codemirror_mode": {
    "name": "ipython",
    "version": 3
   },
   "file_extension": ".py",
   "mimetype": "text/x-python",
   "name": "python",
   "nbconvert_exporter": "python",
   "pygments_lexer": "ipython3",
   "version": "3.6.10"
  }
 },
 "nbformat": 4,
 "nbformat_minor": 4
}
